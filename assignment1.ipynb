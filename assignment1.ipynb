{
  "nbformat": 4,
  "nbformat_minor": 0,
  "metadata": {
    "colab": {
      "provenance": [],
      "authorship_tag": "ABX9TyMiIo0/0dQRzEFNViKNj6b0",
      "include_colab_link": true
    },
    "kernelspec": {
      "name": "python3",
      "display_name": "Python 3"
    },
    "language_info": {
      "name": "python"
    }
  },
  "cells": [
    {
      "cell_type": "markdown",
      "metadata": {
        "id": "view-in-github",
        "colab_type": "text"
      },
      "source": [
        "<a href=\"https://colab.research.google.com/github/AleenaSR/ict_intern/blob/Day1/assignment1.ipynb\" target=\"_parent\"><img src=\"https://colab.research.google.com/assets/colab-badge.svg\" alt=\"Open In Colab\"/></a>"
      ]
    },
    {
      "cell_type": "code",
      "execution_count": null,
      "metadata": {
        "colab": {
          "base_uri": "https://localhost:8080/"
        },
        "id": "CIsASDSmBh0b",
        "outputId": "f7d4782c-67a4-4688-9523-96ea0f5fb20b"
      },
      "outputs": [
        {
          "output_type": "stream",
          "name": "stdout",
          "text": [
            "josh\n",
            "tom\n",
            "sam\n"
          ]
        }
      ],
      "source": [
        "val=['sam','tom','josh']\n",
        "reverse=[]\n",
        "for i in range(len(val)) :\n",
        "    reverse.append(val[len(val) - i - 1])\n",
        "\n",
        "for i in range(len(reverse)):\n",
        "  print(reverse[i]) "
      ]
    },
    {
      "cell_type": "code",
      "source": [
        "n=int(input('Enter the number:- '))\n",
        "for i in range(n):\n",
        "  for j in range(n):\n",
        "    print('* ',end='')\n",
        "  print('')\n"
      ],
      "metadata": {
        "colab": {
          "base_uri": "https://localhost:8080/"
        },
        "id": "w6zB5uC3IDsV",
        "outputId": "f95cd4aa-b2e1-486f-d501-d5f70a5bc8a2"
      },
      "execution_count": null,
      "outputs": [
        {
          "output_type": "stream",
          "name": "stdout",
          "text": [
            "Enter the number:- 5\n",
            "* * * * * \n",
            "* * * * * \n",
            "* * * * * \n",
            "* * * * * \n",
            "* * * * * \n"
          ]
        }
      ]
    },
    {
      "cell_type": "code",
      "source": [
        "s='python'\n",
        "print(s[0])\n",
        "print(s[-len(s)])\n",
        "print(s[0:4])\n",
        "print(s[-len(s):-2])\n"
      ],
      "metadata": {
        "colab": {
          "base_uri": "https://localhost:8080/"
        },
        "id": "NN2zx52NTRyK",
        "outputId": "ecb3249c-5a23-4411-fb82-126f5efa9baa"
      },
      "execution_count": null,
      "outputs": [
        {
          "output_type": "stream",
          "name": "stdout",
          "text": [
            "p\n",
            "p\n",
            "pyth\n",
            "pyth\n"
          ]
        }
      ]
    },
    {
      "cell_type": "code",
      "source": [
        "p=[1,2,3,4,5]\n",
        "for p in  p:\n",
        "  print(p)"
      ],
      "metadata": {
        "colab": {
          "base_uri": "https://localhost:8080/"
        },
        "id": "49YUZ8xFYyvg",
        "outputId": "9987ade6-69c5-49d9-a7cb-49ed9356ca13"
      },
      "execution_count": null,
      "outputs": [
        {
          "output_type": "stream",
          "name": "stdout",
          "text": [
            "1\n",
            "2\n",
            "3\n",
            "4\n",
            "5\n"
          ]
        }
      ]
    },
    {
      "cell_type": "code",
      "source": [
        "a=1\n",
        "while a<10:\n",
        "  print(a)\n",
        "  a+=2"
      ],
      "metadata": {
        "colab": {
          "base_uri": "https://localhost:8080/"
        },
        "id": "Dl8t97qUtfRH",
        "outputId": "c585e07d-c494-4a7e-95e8-ce673a9d35c5"
      },
      "execution_count": null,
      "outputs": [
        {
          "output_type": "stream",
          "name": "stdout",
          "text": [
            "1\n",
            "3\n",
            "5\n",
            "7\n",
            "9\n"
          ]
        }
      ]
    },
    {
      "cell_type": "markdown",
      "source": [
        "Calculator"
      ],
      "metadata": {
        "id": "1TOOfVCiu8ZU"
      }
    },
    {
      "cell_type": "code",
      "source": [
        "\n",
        "a=int(input('Enter the number1:- '))\n",
        "b=int(input('Enter the number2:- '))\n",
        "q=int(input('Enter the choice sum =1, sub =2, mul =3, div=4:- '))\n",
        "if q==1:\n",
        "  s=a+b\n",
        "  print(s)\n",
        "elif q==2:\n",
        "  s=a-b\n",
        "  print(s)\n",
        "elif q==3:\n",
        "  s=a*b\n",
        "  print(s)\n",
        "elif q==4:\n",
        "  if a==0:\n",
        "    print(\"not possible\")\n",
        "  else:\n",
        "     s=b/a                                  \n",
        "     print(s)\n",
        "else:\n",
        "  print(\"error\")\n",
        "\n",
        "\n",
        "  \n",
        "\n"
      ],
      "metadata": {
        "colab": {
          "base_uri": "https://localhost:8080/"
        },
        "id": "e-bGjLIfugWG",
        "outputId": "9e26bdf0-6ea7-4e11-a99d-a0815b897227"
      },
      "execution_count": null,
      "outputs": [
        {
          "output_type": "stream",
          "name": "stdout",
          "text": [
            "Enter the number1:- 5\n",
            "Enter the number2:- 5\n",
            "Enter the choice sum =1, sub =2, mul =3, div=4:- 2\n",
            "0\n"
          ]
        }
      ]
    },
    {
      "cell_type": "markdown",
      "source": [
        "Prime number"
      ],
      "metadata": {
        "id": "L6KsFJm4vHH3"
      }
    },
    {
      "cell_type": "code",
      "source": [
        "\n",
        "a=int(input('Enter the number:- '))\n",
        "if a==0:\n",
        "    print(a,\"is not prime\")\n",
        "elif a==1:\n",
        "  print(a,\"is not prime\")        \n",
        "else:\n",
        "    for i in range(2,a):\n",
        "        if a%i==0:\n",
        "          print(a,'is not prime')\n",
        "          flag=0\n",
        "          break\n",
        "        else:\n",
        "          flag=1\n",
        "    if flag==1:\n",
        "      print(a,\"is prime\")    \n"
      ],
      "metadata": {
        "colab": {
          "base_uri": "https://localhost:8080/"
        },
        "id": "wGTpWr3q1bla",
        "outputId": "a6a58689-5130-4e5c-9681-fa5c68fdbca2"
      },
      "execution_count": null,
      "outputs": [
        {
          "output_type": "stream",
          "name": "stdout",
          "text": [
            "Enter the number:- 15\n",
            "15 is not prime\n"
          ]
        }
      ]
    },
    {
      "cell_type": "markdown",
      "source": [
        "leap year"
      ],
      "metadata": {
        "id": "QPRYOviupP0B"
      }
    },
    {
      "cell_type": "code",
      "source": [
        "a=int(input('Enter the year:- '))  \n",
        "if a%400==0 and a%100!=0 and a%4==0:\n",
        "  print(\"leap year\")   \n",
        "else:\n",
        "  print(\"not a leap year\") "
      ],
      "metadata": {
        "colab": {
          "base_uri": "https://localhost:8080/"
        },
        "id": "eJCxyDXS5xR7",
        "outputId": "7e799ca0-8e38-45b0-935d-1683af88af37"
      },
      "execution_count": null,
      "outputs": [
        {
          "output_type": "stream",
          "name": "stdout",
          "text": [
            "Enter the year:- 2020\n",
            "not a leap year\n"
          ]
        }
      ]
    },
    {
      "cell_type": "markdown",
      "source": [
        "sum of n numbers"
      ],
      "metadata": {
        "id": "ZD5RQ35epMil"
      }
    },
    {
      "cell_type": "code",
      "source": [
        "n=int(input('Enter number:- ')) \n",
        "s=0 \n",
        "for i in  range(0,n+1):\n",
        "  s=s+i\n",
        "print(\"sum =\",s)"
      ],
      "metadata": {
        "colab": {
          "base_uri": "https://localhost:8080/"
        },
        "id": "aeubmzaA-fyw",
        "outputId": "4929678a-91bb-449d-e2c3-381eb22267b9"
      },
      "execution_count": null,
      "outputs": [
        {
          "output_type": "stream",
          "name": "stdout",
          "text": [
            "Enter number:- 10\n",
            "sum = 55\n"
          ]
        }
      ]
    },
    {
      "cell_type": "markdown",
      "source": [
        "factorial"
      ],
      "metadata": {
        "id": "87ivsEtepUL5"
      }
    },
    {
      "cell_type": "code",
      "source": [
        "n=int(input('Enter number:- ')) \n",
        "s=1 \n",
        "for i in  range(1,n+1):\n",
        "  s=s*i\n",
        "print(\"sum =\",s)"
      ],
      "metadata": {
        "colab": {
          "base_uri": "https://localhost:8080/"
        },
        "id": "4R6fmsCO_3kj",
        "outputId": "5930baaa-e6f4-4787-a42f-67a519fa10b8"
      },
      "execution_count": null,
      "outputs": [
        {
          "output_type": "stream",
          "name": "stdout",
          "text": [
            "Enter number:- 5\n",
            "sum = 120\n"
          ]
        }
      ]
    },
    {
      "cell_type": "markdown",
      "source": [
        "Function"
      ],
      "metadata": {
        "id": "mLZAv8IMpZY_"
      }
    },
    {
      "cell_type": "code",
      "source": [
        "def greeting():\n",
        "  print(\"Hello\")\n",
        "greeting()"
      ],
      "metadata": {
        "colab": {
          "base_uri": "https://localhost:8080/"
        },
        "id": "lWWZbG19FM7Q",
        "outputId": "68ed70b9-fa68-4c1e-e930-0e81e081071c"
      },
      "execution_count": null,
      "outputs": [
        {
          "output_type": "stream",
          "name": "stdout",
          "text": [
            "Hello\n"
          ]
        }
      ]
    },
    {
      "cell_type": "code",
      "source": [
        "sum=0\n",
        "def add(num1, num2):\n",
        "  sum=num1+num2\n",
        "  print(sum)\n",
        "add(1,2)\n"
      ],
      "metadata": {
        "colab": {
          "base_uri": "https://localhost:8080/"
        },
        "id": "TkkcPn-CF1Hu",
        "outputId": "5e52ecc7-5e71-4600-c9f2-c15a6766ec32"
      },
      "execution_count": null,
      "outputs": [
        {
          "output_type": "stream",
          "name": "stdout",
          "text": [
            "3\n"
          ]
        }
      ]
    },
    {
      "cell_type": "code",
      "source": [
        "def square(num1):\n",
        "  sum=num1*num1\n",
        "  print(sum)\n",
        "a=int(input('Enter the number:- '))\n",
        "square(a)\n"
      ],
      "metadata": {
        "colab": {
          "base_uri": "https://localhost:8080/"
        },
        "id": "2sH01sJ3ITZa",
        "outputId": "738f8306-3e72-446f-fc00-5d89a0adf08d"
      },
      "execution_count": null,
      "outputs": [
        {
          "output_type": "stream",
          "name": "stdout",
          "text": [
            "Enter the number:- 3\n",
            "9\n"
          ]
        }
      ]
    },
    {
      "cell_type": "markdown",
      "source": [
        "**ASSIGNMENT1**"
      ],
      "metadata": {
        "id": "VjeXTqvi30GY"
      }
    },
    {
      "cell_type": "markdown",
      "source": [
        "QN-1"
      ],
      "metadata": {
        "id": "lUDqEnDo-Xid"
      }
    },
    {
      "cell_type": "code",
      "execution_count": null,
      "metadata": {
        "colab": {
          "base_uri": "https://localhost:8080/"
        },
        "id": "zuN2o9wiz1M4",
        "outputId": "b1b2d06a-ef71-461b-9904-20f5265ec654"
      },
      "outputs": [
        {
          "output_type": "stream",
          "name": "stdout",
          "text": [
            "sum is: 69\n"
          ]
        }
      ],
      "source": [
        " list = [1,5,3,14,25,21]\n",
        " s=0\n",
        " for i in list :\n",
        "   s = s+i\n",
        " print(\"sum is:\",s)"
      ]
    },
    {
      "cell_type": "markdown",
      "source": [
        "QN-2"
      ],
      "metadata": {
        "id": "JWIYmXN1-Z92"
      }
    },
    {
      "cell_type": "code",
      "source": [
        "string = input(\"enter the string\")\n",
        "print(len(string))\n",
        "print(len(string)//2)"
      ],
      "metadata": {
        "colab": {
          "base_uri": "https://localhost:8080/"
        },
        "id": "VTW35UIH0w1q",
        "outputId": "ee1f3518-ba17-4b7d-c374-8da799998f91"
      },
      "execution_count": null,
      "outputs": [
        {
          "output_type": "stream",
          "name": "stdout",
          "text": [
            "enter the stringwelcome to python\n",
            "17\n",
            "8\n"
          ]
        }
      ]
    },
    {
      "cell_type": "markdown",
      "source": [
        "QN-3"
      ],
      "metadata": {
        "id": "0OHbdWLN-ejo"
      }
    },
    {
      "cell_type": "code",
      "source": [
        "s1= input(\"enter the first string\")\n",
        "s2= input(\"enter the second string\")\n",
        "newstring = s1+\" \"+s2\n",
        "print(\"sum of two strings\",newstring)\n",
        "print(len(newstring))\n"
      ],
      "metadata": {
        "colab": {
          "base_uri": "https://localhost:8080/"
        },
        "id": "CxbiT5Gh1RCA",
        "outputId": "be2362b5-9d46-4599-cb8c-fd9dbeab2e21"
      },
      "execution_count": null,
      "outputs": [
        {
          "output_type": "stream",
          "name": "stdout",
          "text": [
            "enter the first stringwelcome to\n",
            "enter the second stringpython world\n",
            "sum of two strings welcome to python world\n",
            "23\n"
          ]
        }
      ]
    },
    {
      "cell_type": "markdown",
      "source": [
        "QN-4"
      ],
      "metadata": {
        "id": "o2Ayz1bt-iX0"
      }
    },
    {
      "cell_type": "code",
      "source": [
        "t=(78,45,32,19,82,77,40,39)\n",
        "print(\"original tuple:\",t)\n",
        "m = t[0:2] + (100,) + t[3:len(t)]\n",
        "print(\"modified tuple\",m)\n"
      ],
      "metadata": {
        "colab": {
          "base_uri": "https://localhost:8080/"
        },
        "id": "CcszQ-6722XO",
        "outputId": "afebec5e-6264-48e6-ddc7-afce9bb39f1e"
      },
      "execution_count": null,
      "outputs": [
        {
          "output_type": "stream",
          "name": "stdout",
          "text": [
            "original tuple: (78, 45, 32, 19, 82, 77, 40, 39)\n",
            "modified tuple (78, 45, 100, 19, 82, 77, 40, 39)\n"
          ]
        }
      ]
    },
    {
      "cell_type": "markdown",
      "source": [
        "QN-5\n"
      ],
      "metadata": {
        "id": "E3nZHYz3MGV7"
      }
    },
    {
      "cell_type": "code",
      "source": [
        "\n",
        "lstA = [19, 32, 10, 55, 31, 32, 94, 29, 10, 65, 77, 40, 40]\n",
        "# (d) modify the value at index 9 to 300\n",
        "lstA[9] = 300\n",
        "print(\"List after modifying value at index 9 to 300:\", lstA)\n",
        "\n",
        "# (a) delete first occurrence of 32\n",
        "for i in range(len(lstA)):\n",
        "    if lstA[i] == 32:\n",
        "        del lstA[i]\n",
        "        break\n",
        "\n",
        "print(\"List after deleting first occurrence of 32:\", lstA)\n",
        "# (b) delete all occurrences of 40\n",
        "while 40 in lstA:\n",
        "  lstA.remove(40)\n",
        "print(\"List after deleting all occurrences of 40:\", lstA)\n",
        "\n",
        "# (c) delete value at index 5\n",
        "del lstA[5]\n",
        "print(\"List after deleting value at index 5:\", lstA)\n",
        "\n",
        "\n",
        "# (e) add 200 at index 2\n",
        "lstA = lstA[:2] + [200] + lstA[2:]\n",
        "print(\"List after adding 200 at index 2:\", lstA)\n",
        "\n",
        "# (f) print the final list with its length, maximum value, and sum of all elements\n",
        "print(\"Final list:\", lstA)\n",
        "print(\"Length of list:\", len(lstA))\n",
        "p=lstA[1]\n",
        "for i in range(2,len(lstA)):\n",
        "    if p<lstA[i]:\n",
        "      p=lstA[i]\n",
        "\n",
        "print(\"Maximum value of list:\", p)\n",
        "s=0\n",
        "for i in range(len(lstA)):\n",
        "  s=s+lstA[i]\n",
        "print(\"Sum of all elements in list:\",s)"
      ],
      "metadata": {
        "id": "QhouClTuwgQA",
        "colab": {
          "base_uri": "https://localhost:8080/"
        },
        "outputId": "eed054b8-fe2e-4638-c1d2-a71230039d1c"
      },
      "execution_count": null,
      "outputs": [
        {
          "output_type": "stream",
          "name": "stdout",
          "text": [
            "List after modifying value at index 9 to 300: [19, 32, 10, 55, 31, 32, 94, 29, 10, 300, 77, 40, 40]\n",
            "List after deleting first occurrence of 32: [19, 10, 55, 31, 32, 94, 29, 10, 300, 77, 40, 40]\n",
            "List after deleting all occurrences of 40: [19, 10, 55, 31, 32, 94, 29, 10, 300, 77]\n",
            "List after deleting value at index 5: [19, 10, 55, 31, 32, 29, 10, 300, 77]\n",
            "List after adding 200 at index 2: [19, 10, 200, 55, 31, 32, 29, 10, 300, 77]\n",
            "Final list: [19, 10, 200, 55, 31, 32, 29, 10, 300, 77]\n",
            "Length of list: 10\n",
            "Maximum value of list: 300\n",
            "Sum of all elements in list: 763\n"
          ]
        }
      ]
    }
  ]
}